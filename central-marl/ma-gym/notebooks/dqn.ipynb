{
 "cells": [
  {
   "cell_type": "code",
   "execution_count": 20,
   "id": "82ad5dc3-1129-49ed-9687-6610b7f043ad",
   "metadata": {},
   "outputs": [],
   "source": [
    "# Jax imports \n",
    "\n",
    "import jax.numpy as jnp\n",
    "import numpy as np \n",
    "from jax import random \n",
    "import haiku as hk \n",
    "import optax "
   ]
  },
  {
   "cell_type": "code",
   "execution_count": 61,
   "id": "12d100f0-0c06-4671-b6ab-8b244552232b",
   "metadata": {},
   "outputs": [],
   "source": [
    "# Environment\n",
    "import gym\n",
    "\n",
    "env = gym.make('ma_gym:Checkers-v0')"
   ]
  },
  {
   "cell_type": "code",
   "execution_count": 59,
   "id": "62d56343-ee99-468c-84c5-e05475cb718e",
   "metadata": {},
   "outputs": [],
   "source": [
    "class CentralControllerWrapper: \n",
    "    \n",
    "    def __init__(self, ma_env):\n",
    "        \n",
    "        self.env = ma_env \n",
    "        self.num_agents = ma_env.n_agents \n",
    "        self.action_mapping = self.enumerate_agent_actions()\n",
    "        self.action_space = len(self.action_mapping)\n",
    "        self.observation_space = np.sum([len(i) for i in ma_env.reset()])\n",
    "        \n",
    "    def reset(self, ):\n",
    "        \n",
    "        obs_n = self.env.reset()\n",
    "        joint_obs = self.create_joint_obs(obs_n)\n",
    "        \n",
    "        return joint_obs\n",
    "    \n",
    "    def step(self, joint_action): \n",
    "        \n",
    "        action = self.action_mapping(joint_action)\n",
    "        obs_n, reward_n, done_n, info = self.env.step(action)\n",
    "        \n",
    "        joint_obs = self.create_joint_obs(obs_n)\n",
    "        team_reward = jnp.sum(reward_n)\n",
    "        team_done = all(done_n)\n",
    "        \n",
    "        return joint_obs, team_reward, team_done, info\n",
    "        \n",
    "    \n",
    "    def enumerate_agent_actions(self, ):\n",
    "        \n",
    "        agent_actions = [np.arange(self.env.action_space[i].n) for i in range(len(self.env.action_space))]\n",
    "        enumerated_actions = np.array(np.meshgrid(*agent_actions)).T.reshape(-1,self.num_agents)\n",
    "        action_mapping = {int(i): list(action) for i, action in enumerate(enumerated_actions)}\n",
    "        return action_mapping\n",
    "    \n",
    "    def create_joint_obs(self, env_obs):\n",
    "        \n",
    "        array_obs = np.array(env_obs)\n",
    "        joint_obs = np.concatenate(array_obs, axis = -1)\n",
    "        \n",
    "        return joint_obs\n",
    "    "
   ]
  },
  {
   "cell_type": "code",
   "execution_count": 62,
   "id": "0d0afe39-93c2-4db8-8973-a6205876cdd6",
   "metadata": {},
   "outputs": [],
   "source": [
    "env = CentralControllerWrapper(env)"
   ]
  }
 ],
 "metadata": {
  "kernelspec": {
   "display_name": "Python 3 (ipykernel)",
   "language": "python",
   "name": "python3"
  },
  "language_info": {
   "codemirror_mode": {
    "name": "ipython",
    "version": 3
   },
   "file_extension": ".py",
   "mimetype": "text/x-python",
   "name": "python",
   "nbconvert_exporter": "python",
   "pygments_lexer": "ipython3",
   "version": "3.8.16"
  }
 },
 "nbformat": 4,
 "nbformat_minor": 5
}
